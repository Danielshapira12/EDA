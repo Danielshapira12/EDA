{
 "cells": [
  {
   "cell_type": "markdown",
   "metadata": {},
   "source": [
    "# starting point"
   ]
  },
  {
   "cell_type": "code",
   "execution_count": 2,
   "metadata": {},
   "outputs": [
    {
     "name": "stdout",
     "output_type": "stream",
     "text": [
      "Collecting pandas\n",
      "  Downloading pandas-2.2.3-cp39-cp39-win_amd64.whl (11.6 MB)\n",
      "Collecting matplotlib\n",
      "  Downloading matplotlib-3.9.2-cp39-cp39-win_amd64.whl (7.8 MB)\n",
      "Collecting seaborn\n",
      "  Downloading seaborn-0.13.2-py3-none-any.whl (294 kB)\n",
      "Requirement already satisfied: python-dateutil>=2.8.2 in c:\\users\\user\\anaconda3\\envs\\pythonproject\\lib\\site-packages (from pandas) (2.9.0)\n",
      "Collecting tzdata>=2022.7\n",
      "  Using cached tzdata-2024.2-py2.py3-none-any.whl (346 kB)\n",
      "Collecting numpy>=1.22.4\n",
      "  Downloading numpy-2.0.2-cp39-cp39-win_amd64.whl (15.9 MB)\n",
      "Collecting pytz>=2020.1\n",
      "  Downloading pytz-2024.2-py2.py3-none-any.whl (508 kB)\n",
      "Collecting contourpy>=1.0.1\n",
      "  Downloading contourpy-1.3.0-cp39-cp39-win_amd64.whl (211 kB)\n",
      "Collecting kiwisolver>=1.3.1\n",
      "  Downloading kiwisolver-1.4.7-cp39-cp39-win_amd64.whl (55 kB)\n",
      "Collecting importlib-resources>=3.2.0\n",
      "  Downloading importlib_resources-6.4.5-py3-none-any.whl (36 kB)\n",
      "Collecting pyparsing>=2.3.1\n",
      "  Downloading pyparsing-3.2.0-py3-none-any.whl (106 kB)\n",
      "Collecting cycler>=0.10\n",
      "  Downloading cycler-0.12.1-py3-none-any.whl (8.3 kB)\n",
      "Requirement already satisfied: packaging>=20.0 in c:\\users\\user\\anaconda3\\envs\\pythonproject\\lib\\site-packages (from matplotlib) (24.1)\n",
      "Collecting pillow>=8\n",
      "  Downloading pillow-11.0.0-cp39-cp39-win_amd64.whl (2.6 MB)\n",
      "Collecting fonttools>=4.22.0\n",
      "  Downloading fonttools-4.54.1-cp39-cp39-win_amd64.whl (2.2 MB)\n",
      "Requirement already satisfied: zipp>=3.1.0 in c:\\users\\user\\anaconda3\\envs\\pythonproject\\lib\\site-packages (from importlib-resources>=3.2.0->matplotlib) (3.20.2)\n",
      "Requirement already satisfied: six>=1.5 in c:\\users\\user\\anaconda3\\envs\\pythonproject\\lib\\site-packages (from python-dateutil>=2.8.2->pandas) (1.16.0)\n",
      "Installing collected packages: numpy, tzdata, pytz, pyparsing, pillow, kiwisolver, importlib-resources, fonttools, cycler, contourpy, pandas, matplotlib, seaborn\n",
      "Successfully installed contourpy-1.3.0 cycler-0.12.1 fonttools-4.54.1 importlib-resources-6.4.5 kiwisolver-1.4.7 matplotlib-3.9.2 numpy-2.0.2 pandas-2.2.3 pillow-11.0.0 pyparsing-3.2.0 pytz-2024.2 seaborn-0.13.2 tzdata-2024.2\n",
      "Note: you may need to restart the kernel to use updated packages.\n",
      "['team_id', 'team_name', 'season', 'league_id', 'team_form', 'games_played_home', 'games_played_away', 'wins_home', 'losses_home', 'draws_home', 'wins_away', 'losses_away', 'draws_away', 'stadium_capacity', 'team_country', 'goals_scored_0_15', 'goals_scored_16_30', 'goals_scored_31_45', 'goals_scored_46_60', 'goals_scored_61_75', 'goals_scored_76_90', 'goals_scored_91_105', 'goals_scored_106_120', 'goals_conceded_0_15', 'goals_conceded_16_30', 'goals_conceded_31_45', 'goals_conceded_46_60', 'goals_conceded_61_75', 'goals_conceded_76_90', 'goals_conceded_91_105', 'goals_conceded_106_120', 'clean_sheets', 'failed_to_score', 'penalty_success_rate', 'over_0_5', 'under_0_5', 'over_1_5', 'under_1_5', 'over_2_5', 'under_2_5', 'over_3_5', 'under_3_5', 'over_4_5', 'under_4_5', 'yellow_cards_0_15', 'yellow_cards_16_30', 'yellow_cards_31_45', 'yellow_cards_46_60', 'yellow_cards_61_75', 'yellow_cards_76_90', 'yellow_cards_91_105', 'yellow_cards_106_120', 'red_cards_0_15', 'red_cards_16_30', 'red_cards_31_45', 'red_cards_46_60', 'red_cards_61_75', 'red_cards_76_90', 'red_cards_91_105', 'red_cards_106_120']\n"
     ]
    }
   ],
   "source": [
    "# rerun if needed\n",
    "%pip install pandas matplotlib seaborn\n",
    "\n",
    "import pandas as pd\n",
    "import matplotlib.pyplot as plt\n",
    "import matplotlib as mpl\n",
    "import seaborn as sns\n",
    "data = pd.read_csv('teams.csv')\n",
    "# print (data.head())\n",
    "print(data.columns.tolist())"
   ]
  },
  {
   "cell_type": "markdown",
   "metadata": {},
   "source": [
    "### find nulls"
   ]
  },
  {
   "cell_type": "code",
   "execution_count": 3,
   "metadata": {},
   "outputs": [
    {
     "name": "stdout",
     "output_type": "stream",
     "text": [
      "team_form                  67\n",
      "team_country               37\n",
      "goals_scored_0_15          59\n",
      "goals_scored_16_30         59\n",
      "goals_scored_31_45         60\n",
      "goals_scored_46_60         59\n",
      "goals_scored_61_75         59\n",
      "goals_scored_76_90         59\n",
      "goals_scored_91_105        63\n",
      "goals_scored_106_120      139\n",
      "goals_conceded_0_15        59\n",
      "goals_conceded_16_30       59\n",
      "goals_conceded_31_45       59\n",
      "goals_conceded_46_60       59\n",
      "goals_conceded_61_75       59\n",
      "goals_conceded_76_90       59\n",
      "goals_conceded_91_105      62\n",
      "goals_conceded_106_120    139\n",
      "clean_sheets               37\n",
      "failed_to_score            37\n",
      "penalty_success_rate       37\n",
      "over_0_5                   37\n",
      "under_0_5                  37\n",
      "over_1_5                   37\n",
      "under_1_5                  37\n",
      "over_2_5                   37\n",
      "under_2_5                  37\n",
      "over_3_5                   37\n",
      "under_3_5                  37\n",
      "over_4_5                   37\n",
      "under_4_5                  37\n",
      "yellow_cards_0_15          62\n",
      "yellow_cards_16_30         59\n",
      "yellow_cards_31_45         59\n",
      "yellow_cards_46_60         59\n",
      "yellow_cards_61_75         59\n",
      "yellow_cards_76_90         59\n",
      "yellow_cards_91_105        72\n",
      "yellow_cards_106_120      139\n",
      "red_cards_0_15            131\n",
      "red_cards_16_30           126\n",
      "red_cards_31_45           117\n",
      "red_cards_46_60           111\n",
      "red_cards_61_75           111\n",
      "red_cards_76_90           106\n",
      "red_cards_91_105          123\n",
      "red_cards_106_120         139\n",
      "dtype: int64\n"
     ]
    }
   ],
   "source": [
    "# Count the number of missing values in each column\n",
    "missing_values = data.isnull().sum()\n",
    "# Filter and print only the columns with missing values greater than zero\n",
    "non_zero_missing = missing_values[missing_values > 0]\n",
    "print(non_zero_missing)"
   ]
  },
  {
   "cell_type": "markdown",
   "metadata": {},
   "source": [
    "### fill nulls"
   ]
  },
  {
   "cell_type": "code",
   "execution_count": 4,
   "metadata": {},
   "outputs": [
    {
     "name": "stdout",
     "output_type": "stream",
     "text": [
      "team_form               67\n",
      "team_country            37\n",
      "clean_sheets            37\n",
      "failed_to_score         37\n",
      "penalty_success_rate    37\n",
      "dtype: int64\n"
     ]
    }
   ],
   "source": [
    "# List of stuff we will change from null to 0\n",
    "columns_to_fill_0 = [ 'goals_scored_0_15', 'goals_scored_16_30', 'goals_scored_31_45', 'goals_scored_46_60', \n",
    "                     'goals_scored_61_75', 'goals_scored_76_90', 'goals_scored_91_105', 'goals_scored_106_120', \n",
    "                     'goals_conceded_0_15', 'goals_conceded_16_30', 'goals_conceded_31_45', 'goals_conceded_46_60', \n",
    "                     'goals_conceded_61_75', 'goals_conceded_76_90', 'goals_conceded_91_105', 'goals_conceded_106_120',\n",
    "                     'over_0_5', 'under_0_5', 'over_1_5', 'under_1_5', 'over_2_5', 'under_2_5', 'over_3_5', 'under_3_5',\n",
    "                     'over_4_5', 'under_4_5', 'yellow_cards_0_15', 'yellow_cards_16_30', 'yellow_cards_31_45', 'yellow_cards_46_60',\n",
    "                     'yellow_cards_61_75', 'yellow_cards_76_90', 'yellow_cards_91_105', 'yellow_cards_106_120', 'red_cards_0_15',\n",
    "                     'red_cards_16_30', 'red_cards_31_45', 'red_cards_46_60', 'red_cards_61_75', 'red_cards_76_90', 'red_cards_91_105', 'red_cards_106_120']\n",
    "\n",
    "# Replace NaN with 0 in the specified columns\n",
    "data[columns_to_fill_0] = data[columns_to_fill_0].fillna(0)\n",
    "# Count the number of missing values in each column\n",
    "missing_values = data.isnull().sum()\n",
    "# Filter and print only the columns with missing values greater than zero\n",
    "non_zero_missing = missing_values[missing_values > 0]\n",
    "print(non_zero_missing)"
   ]
  },
  {
   "cell_type": "markdown",
   "metadata": {},
   "source": [
    "## explore data"
   ]
  },
  {
   "cell_type": "markdown",
   "metadata": {},
   "source": [
    "### fill team country - its empty always, not helping"
   ]
  },
  {
   "cell_type": "code",
   "execution_count": 5,
   "metadata": {},
   "outputs": [
    {
     "name": "stdout",
     "output_type": "stream",
     "text": [
      "Number of empty team_country before filling: 37\n",
      "Number of empty team_country after filling: 11\n",
      "Number of empty team_country before filling: 11\n",
      "Number of empty team_country after filling: 0\n"
     ]
    },
    {
     "name": "stderr",
     "output_type": "stream",
     "text": [
      "C:\\Users\\User\\AppData\\Local\\Temp\\ipykernel_20700\\1967981528.py:30: FutureWarning: A value is trying to be set on a copy of a DataFrame or Series through chained assignment using an inplace method.\n",
      "The behavior will change in pandas 3.0. This inplace method will never work because the intermediate object on which we are setting values always behaves as a copy.\n",
      "\n",
      "For example, when doing 'df[col].method(value, inplace=True)', try using 'df.method({col: value}, inplace=True)' or df[col] = df[col].method(value) instead, to perform the operation inplace on the original object.\n",
      "\n",
      "\n",
      "  data['team_country'].fillna('England', inplace=True)\n"
     ]
    }
   ],
   "source": [
    "# Count of NaN in team_country before filling\n",
    "count_nan_before = data['team_country'].isnull().sum()\n",
    "print(f\"Number of empty team_country before filling: {count_nan_before}\")\n",
    "\n",
    "# Check for teams with NaN in team_country\n",
    "nan_teams = data[data['team_country'].isnull()]\n",
    "\n",
    "# Iterate over each team with NaN in team_country\n",
    "for index, row in nan_teams.iterrows():\n",
    "    team_name = row['team_name']\n",
    "    # Find other entries for the same team that have a valid team_country\n",
    "    valid_country = data[(data['team_name'] == team_name) & (data['team_country'].notnull())]['team_country']\n",
    "    \n",
    "    # If a valid country is found, fill the NaN in the current row\n",
    "    if not valid_country.empty:\n",
    "        data.at[index, 'team_country'] = valid_country.iloc[0]  # Use the first valid country found\n",
    "\n",
    "# Count of NaN in team_country after filling\n",
    "count_nan_after = data['team_country'].isnull().sum()\n",
    "print(f\"Number of empty team_country after filling: {count_nan_after}\")\n",
    "\n",
    "\n",
    "\n",
    "# but i can fill with England for now\n",
    "# Count of NaN in team_country before filling\n",
    "count_nan_before = data['team_country'].isnull().sum()\n",
    "print(f\"Number of empty team_country before filling: {count_nan_before}\")\n",
    "\n",
    "# Fill all missing values in team_country with 'England'\n",
    "data['team_country'].fillna('England', inplace=True)\n",
    "\n",
    "# Count of NaN in team_country after filling\n",
    "count_nan_after = data['team_country'].isnull().sum()\n",
    "print(f\"Number of empty team_country after filling: {count_nan_after}\")\n",
    "\n"
   ]
  },
  {
   "cell_type": "markdown",
   "metadata": {},
   "source": [
    "### look what is missing"
   ]
  },
  {
   "cell_type": "code",
   "execution_count": 6,
   "metadata": {},
   "outputs": [
    {
     "name": "stdout",
     "output_type": "stream",
     "text": [
      "\n",
      "Rows with null values in 'team_form':\n",
      "            team_name  season team_form  clean_sheets  failed_to_score  \\\n",
      "0           Hull City    2010       NaN           NaN              NaN   \n",
      "2   Nottingham Forest    2020       NaN           0.0              0.0   \n",
      "3         Bournemouth    2020       NaN           0.0              0.0   \n",
      "4               Leeds    2010       NaN           NaN              NaN   \n",
      "5               Leeds    2020       NaN          12.0             10.0   \n",
      "8         Bournemouth    2010       NaN           NaN              NaN   \n",
      "9         Bournemouth    2021       NaN           0.0              0.0   \n",
      "11     Crystal Palace    2023       NaN          10.0              7.0   \n",
      "13           Brighton    2010       NaN           NaN              NaN   \n",
      "14           Brighton    2020       NaN          12.0             12.0   \n",
      "\n",
      "    penalty_success_rate  \n",
      "0                    NaN  \n",
      "2                    0.0  \n",
      "3                    0.0  \n",
      "4                    NaN  \n",
      "5                  100.0  \n",
      "8                    NaN  \n",
      "9                    0.0  \n",
      "11                 100.0  \n",
      "13                   NaN  \n",
      "14                 100.0  \n",
      "\n",
      "Rows with null values in 'team_country':\n",
      "Empty DataFrame\n",
      "Columns: [team_name, season, team_form, clean_sheets, failed_to_score, penalty_success_rate]\n",
      "Index: []\n",
      "\n",
      "Rows with null values in 'clean_sheets':\n",
      "        team_name  season                              team_form  \\\n",
      "0       Hull City    2010                                    NaN   \n",
      "1           Wigan    2010  LLWDLDWDDLLDWLLDDWDLDDLLDWDLLWDLWLDDW   \n",
      "4           Leeds    2010                                    NaN   \n",
      "7       Blackburn    2010  WLLDDWLDLLWWLWLWLDLWLWLWLLDLLDDDLLWDD   \n",
      "8     Bournemouth    2010                                    NaN   \n",
      "10       West Ham    2010  LLLLDWDDLLDDDLWLLDWDWLLDWLDWWDLLLLLDL   \n",
      "13       Brighton    2010                                    NaN   \n",
      "17         Fulham    2010  DDDWDDDLLWDLDLDLDLWLWDWLWDDDWLWLDWWLW   \n",
      "19  Sheffield Utd    2010                                    NaN   \n",
      "20            QPR    2010                                    NaN   \n",
      "\n",
      "    clean_sheets  failed_to_score  penalty_success_rate  \n",
      "0            NaN              NaN                   NaN  \n",
      "1            NaN              NaN                   NaN  \n",
      "4            NaN              NaN                   NaN  \n",
      "7            NaN              NaN                   NaN  \n",
      "8            NaN              NaN                   NaN  \n",
      "10           NaN              NaN                   NaN  \n",
      "13           NaN              NaN                   NaN  \n",
      "17           NaN              NaN                   NaN  \n",
      "19           NaN              NaN                   NaN  \n",
      "20           NaN              NaN                   NaN  \n",
      "\n",
      "Rows with null values in 'failed_to_score':\n",
      "        team_name  season                              team_form  \\\n",
      "0       Hull City    2010                                    NaN   \n",
      "1           Wigan    2010  LLWDLDWDDLLDWLLDDWDLDDLLDWDLLWDLWLDDW   \n",
      "4           Leeds    2010                                    NaN   \n",
      "7       Blackburn    2010  WLLDDWLDLLWWLWLWLDLWLWLWLLDLLDDDLLWDD   \n",
      "8     Bournemouth    2010                                    NaN   \n",
      "10       West Ham    2010  LLLLDWDDLLDDDLWLLDWDWLLDWLDWWDLLLLLDL   \n",
      "13       Brighton    2010                                    NaN   \n",
      "17         Fulham    2010  DDDWDDDLLWDLDLDLDLWLWDWLWDDDWLWLDWWLW   \n",
      "19  Sheffield Utd    2010                                    NaN   \n",
      "20            QPR    2010                                    NaN   \n",
      "\n",
      "    clean_sheets  failed_to_score  penalty_success_rate  \n",
      "0            NaN              NaN                   NaN  \n",
      "1            NaN              NaN                   NaN  \n",
      "4            NaN              NaN                   NaN  \n",
      "7            NaN              NaN                   NaN  \n",
      "8            NaN              NaN                   NaN  \n",
      "10           NaN              NaN                   NaN  \n",
      "13           NaN              NaN                   NaN  \n",
      "17           NaN              NaN                   NaN  \n",
      "19           NaN              NaN                   NaN  \n",
      "20           NaN              NaN                   NaN  \n",
      "\n",
      "Rows with null values in 'penalty_success_rate':\n",
      "        team_name  season                              team_form  \\\n",
      "0       Hull City    2010                                    NaN   \n",
      "1           Wigan    2010  LLWDLDWDDLLDWLLDDWDLDDLLDWDLLWDLWLDDW   \n",
      "4           Leeds    2010                                    NaN   \n",
      "7       Blackburn    2010  WLLDDWLDLLWWLWLWLDLWLWLWLLDLLDDDLLWDD   \n",
      "8     Bournemouth    2010                                    NaN   \n",
      "10       West Ham    2010  LLLLDWDDLLDDDLWLLDWDWLLDWLDWWDLLLLLDL   \n",
      "13       Brighton    2010                                    NaN   \n",
      "17         Fulham    2010  DDDWDDDLLWDLDLDLDLWLWDWLWDDDWLWLDWWLW   \n",
      "19  Sheffield Utd    2010                                    NaN   \n",
      "20            QPR    2010                                    NaN   \n",
      "\n",
      "    clean_sheets  failed_to_score  penalty_success_rate  \n",
      "0            NaN              NaN                   NaN  \n",
      "1            NaN              NaN                   NaN  \n",
      "4            NaN              NaN                   NaN  \n",
      "7            NaN              NaN                   NaN  \n",
      "8            NaN              NaN                   NaN  \n",
      "10           NaN              NaN                   NaN  \n",
      "13           NaN              NaN                   NaN  \n",
      "17           NaN              NaN                   NaN  \n",
      "19           NaN              NaN                   NaN  \n",
      "20           NaN              NaN                   NaN  \n",
      "\n",
      "Total rows with null values across specified columns: 87\n"
     ]
    }
   ],
   "source": [
    "# Filter the DataFrame for rows with null values in the specified columns\n",
    "null_rows = data[data[['team_form', 'clean_sheets', \n",
    "                        'failed_to_score', 'penalty_success_rate']].isnull().any(axis=1)]\n",
    "\n",
    "# Select only the relevant columns for display\n",
    "columns_to_display = ['team_name', 'season', 'team_form', \n",
    "                      'clean_sheets', 'failed_to_score', 'penalty_success_rate']\n",
    "\n",
    "# Display rows with null values in each specified column\n",
    "for column in ['team_form', 'team_country', 'clean_sheets', 'failed_to_score', 'penalty_success_rate']:\n",
    "    print(f\"\\nRows with null values in '{column}':\")\n",
    "    rows_with_null = null_rows[null_rows[column].isnull()][columns_to_display]\n",
    "    print(rows_with_null.head(10))  # Print the first 10 rows for this specific column\n",
    "\n",
    "# Print the total number of rows with any null values\n",
    "total_null_rows = null_rows.shape[0]\n",
    "print(f\"\\nTotal rows with null values across specified columns: {total_null_rows}\")\n",
    "\n"
   ]
  },
  {
   "cell_type": "code",
   "execution_count": null,
   "metadata": {},
   "outputs": [
    {
     "name": "stdout",
     "output_type": "stream",
     "text": [
      "Teams missing all specified parameters (team name and season):\n",
      "            team_name  season\n",
      "0           Hull City    2010\n",
      "4               Leeds    2010\n",
      "8         Bournemouth    2010\n",
      "13           Brighton    2010\n",
      "19      Sheffield Utd    2010\n",
      "20                QPR    2010\n",
      "23          Brentford    2010\n",
      "25              Luton    2010\n",
      "28            Norwich    2010\n",
      "42            Cardiff    2010\n",
      "49          Leicester    2010\n",
      "61     Crystal Palace    2010\n",
      "62  Nottingham Forest    2010\n",
      "63        Southampton    2010\n",
      "69            Burnley    2010\n",
      "71            Watford    2010\n",
      "76            Swansea    2010\n"
     ]
    }
   ],
   "source": [
    "# Check for teams missing all specified parameters\n",
    "missing_params_teams = data[data[['team_form', 'clean_sheets', 'failed_to_score', 'penalty_success_rate']].isnull().all(axis=1)]\n",
    "\n",
    "# Print the results\n",
    "if missing_params_teams.empty:\n",
    "    print(\"No teams are missing all specified parameters.\")\n",
    "else:\n",
    "    print(\"Teams missing all specified parameters (team name and season):\")\n",
    "    print(missing_params_teams[['team_name', 'season']])  # Display team name and season\n",
    "\n",
    "# delete all the teams that miss all this data - for exm: on 2010 were 17 teams which wasn't part of the league\n",
    "data.dropna(subset=['team_form', 'clean_sheets', 'failed_to_score', 'penalty_success_rate'], how='all', inplace=True)\n",
    "# Print the results\n",
    "if missing_params_teams.empty:\n",
    "    print(\"No teams are missing all specified parameters.\")\n",
    "else:\n",
    "    print(\"Teams missing all specified parameters (team name and season):\")\n",
    "    print(missing_params_teams[['team_name', 'season']])  # Display team name and season\n",
    "\n"
   ]
  },
  {
   "cell_type": "code",
   "execution_count": 26,
   "metadata": {},
   "outputs": [
    {
     "name": "stdout",
     "output_type": "stream",
     "text": [
      "Missing data counts by season and parameter type:\n",
      "        team_form  clean_sheets  failed_to_score  penalty_success_rate\n",
      "season                                                                \n",
      "2010           17            37               37                    37\n",
      "2020           11             0                0                     0\n",
      "2021           13             0                0                     0\n",
      "2022           13             0                0                     0\n",
      "2023           13             0                0                     0\n"
     ]
    }
   ],
   "source": [
    "# Create a DataFrame to count missing values by season and parameter type\n",
    "missing_counts = data.groupby('season')[['team_form', 'clean_sheets', 'failed_to_score', 'penalty_success_rate']].apply(lambda x: x.isnull().sum())\n",
    "\n",
    "# Print the results\n",
    "print(\"Missing data counts by season and parameter type:\")\n",
    "print(missing_counts)\n"
   ]
  }
 ],
 "metadata": {
  "kernelspec": {
   "display_name": "Python 3",
   "language": "python",
   "name": "python3"
  },
  "language_info": {
   "codemirror_mode": {
    "name": "ipython",
    "version": 3
   },
   "file_extension": ".py",
   "mimetype": "text/x-python",
   "name": "python",
   "nbconvert_exporter": "python",
   "pygments_lexer": "ipython3",
   "version": "3.9.7"
  }
 },
 "nbformat": 4,
 "nbformat_minor": 2
}
